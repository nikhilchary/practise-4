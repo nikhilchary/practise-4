{
 "cells": [
  {
   "cell_type": "markdown",
   "metadata": {},
   "source": [
    "Exercise Question 1: Given a two list. Create a third list by picking an odd-index element from the first list and even index elements from second."
   ]
  },
  {
   "cell_type": "code",
   "execution_count": 3,
   "metadata": {},
   "outputs": [
    {
     "name": "stdout",
     "output_type": "stream",
     "text": [
      "odd index of list 1 [6, 12, 18]\n",
      "odd index of list 2 [4, 12, 20, 28]\n"
     ]
    },
    {
     "data": {
      "text/plain": [
       "[[6, 12, 18], [4, 12, 20, 28]]"
      ]
     },
     "execution_count": 3,
     "metadata": {},
     "output_type": "execute_result"
    }
   ],
   "source": [
    "l1 = [3, 6, 9, 12, 15, 18, 21]\n",
    "l2 = [4, 8, 12, 16, 20, 24, 28]\n",
    "l3 = []\n",
    "elementsl1=l1[1::2]\n",
    "print('odd index of list 1',elementsl1)\n",
    "elementsl2=l2[0::2]\n",
    "print('odd index of list 2',elementsl2)\n",
    "l3.append(elementsl1)\n",
    "l3.append(elementsl2)\n",
    "l3"
   ]
  },
  {
   "cell_type": "code",
   "execution_count": null,
   "metadata": {},
   "outputs": [],
   "source": []
  },
  {
   "cell_type": "markdown",
   "metadata": {},
   "source": [
    "Exercise Question 2: Given an input list removes the element at index 4 and add it to the 2nd position and also, at the end of the list"
   ]
  },
  {
   "cell_type": "code",
   "execution_count": 10,
   "metadata": {},
   "outputs": [
    {
     "name": "stdout",
     "output_type": "stream",
     "text": [
      "Origigal list  [34, 54, 67, 89, 11, 43, 94]\n",
      "List After removing element at index 4  [34, 54, 67, 89, 43, 94]\n",
      "List after Adding element at index 2  [34, 54, 11, 67, 89, 43, 94]\n",
      "List after Adding element at last  [34, 54, 11, 67, 89, 43, 94, 11]\n"
     ]
    }
   ],
   "source": [
    "sampleList = [34, 54, 67, 89, 11, 43, 94]\n",
    "\n",
    "print(\"Origigal list \", sampleList)\n",
    "element = sampleList.pop(4)\n",
    "print(\"List After removing element at index 4 \", sampleList)\n",
    "\n",
    "sampleList.insert(2, element)\n",
    "print(\"List after Adding element at index 2 \", sampleList)\n",
    "\n",
    "sampleList.append(element)\n",
    "print(\"List after Adding element at last \", sampleList)"
   ]
  },
  {
   "cell_type": "code",
   "execution_count": null,
   "metadata": {},
   "outputs": [],
   "source": []
  },
  {
   "cell_type": "markdown",
   "metadata": {},
   "source": [
    "Exercise Question 3: Given a list slice it into a 3 equal chunks and rever each list"
   ]
  },
  {
   "cell_type": "code",
   "execution_count": 26,
   "metadata": {},
   "outputs": [
    {
     "name": "stdout",
     "output_type": "stream",
     "text": [
      "the original list are [11, 45, 8, 23, 14, 12, 78, 45, 89]\n",
      "first chunk is [11, 45, 8]\n",
      "reverse chunk is  [8, 45, 11]\n",
      "second chunk is  [23, 14, 12]\n",
      "reverse 2 [12, 14, 23]\n",
      "chunk 3 is  [78, 45, 89]\n",
      "chunk 3 reverse [89, 45, 78]\n"
     ]
    }
   ],
   "source": [
    "samplelist = [11, 45, 8, 23, 14, 12, 78, 45, 89]\n",
    "print('the original list are',samplelist)\n",
    "size=int(len(samplelist)/3)\n",
    "chunk1=samplelist[0:size]\n",
    "print('first chunk is',chunk1)\n",
    "chunkr=chunk1[::-1]\n",
    "print('reverse chunk is ',chunkr)\n",
    "chunk2=samplelist[size:size+3]\n",
    "print('second chunk is ',chunk2)\n",
    "chunkr2=chunk2[::-1]\n",
    "print('reverse 2',chunkr2)\n",
    "chunk3=samplelist[size+3:]\n",
    "chunkr3=chunk3[::-1]\n",
    "print('chunk 3 is ',chunk3)\n",
    "print('chunk 3 reverse',chunkr3)\n",
    "\n",
    "\n",
    "\n",
    "\n",
    "\n",
    "\n"
   ]
  },
  {
   "cell_type": "code",
   "execution_count": 33,
   "metadata": {},
   "outputs": [
    {
     "name": "stdout",
     "output_type": "stream",
     "text": [
      "Origigal list  [11, 45, 8, 23, 14, 12, 78, 45, 89]\n",
      "Chunk  1 [11, 45, 8]\n",
      "After reversing it  [8, 45, 11]\n",
      "Chunk  2 [23, 14, 12]\n",
      "After reversing it  [12, 14, 23]\n",
      "Chunk  3 [78, 45, 89]\n",
      "After reversing it  [89, 45, 78]\n"
     ]
    }
   ],
   "source": [
    "sampleList = [11, 45, 8, 23, 14, 12, 78, 45, 89]\n",
    "print(\"Origigal list \", sampleList)\n",
    "\n",
    "length = len(sampleList)\n",
    "chunkSize  = int(length/3)\n",
    "start = 0\n",
    "end = chunkSize\n",
    "for i in range(1, 4, 1):\n",
    "  indexes = slice(start, end, 1)\n",
    "  listChunk = sampleList[indexes]\n",
    "  print(\"Chunk \", i , listChunk)\n",
    "  print(\"After reversing it \", list(reversed(listChunk)))\n",
    "  start = end\n",
    "  if(i != 2):\n",
    "    end +=chunkSize\n",
    "  else:\n",
    "    end += length - chunkSize"
   ]
  },
  {
   "cell_type": "code",
   "execution_count": null,
   "metadata": {},
   "outputs": [],
   "source": []
  },
  {
   "cell_type": "markdown",
   "metadata": {},
   "source": [
    "Exercise Question 4: Given a list iterate it and count the occurrence of each element and create a dictionary to show the count of each element"
   ]
  },
  {
   "cell_type": "code",
   "execution_count": 41,
   "metadata": {},
   "outputs": [
    {
     "name": "stdout",
     "output_type": "stream",
     "text": [
      "original list is [11, 45, 8, 11, 23, 45, 23, 45, 89]\n",
      "count of variables are: {11: 2, 45: 3, 8: 1, 23: 2, 89: 1}\n"
     ]
    }
   ],
   "source": [
    "originallist=[11, 45, 8, 11, 23, 45, 23, 45, 89]\n",
    "print('original list is',originallist)\n",
    "countdict={}\n",
    "for item in originallist:\n",
    "    if item in countdict:\n",
    "        countdict[item]+=1\n",
    "    else:\n",
    "        countdict[item]=1\n",
    "print('count of variables are:',countdict)        \n",
    "    \n",
    "    \n",
    "\n"
   ]
  },
  {
   "cell_type": "code",
   "execution_count": null,
   "metadata": {},
   "outputs": [],
   "source": []
  },
  {
   "cell_type": "markdown",
   "metadata": {},
   "source": [
    "Exercise Question 5: Given a two list of equal size create a set such that it shows the element from both lists in the pair"
   ]
  },
  {
   "cell_type": "code",
   "execution_count": 45,
   "metadata": {},
   "outputs": [
    {
     "name": "stdout",
     "output_type": "stream",
     "text": [
      "First List  [2, 3, 4, 5, 6, 7, 8]\n",
      "Second List  [4, 9, 16, 25, 36, 49, 64]\n"
     ]
    },
    {
     "data": {
      "text/plain": [
       "{(2, 4), (3, 9), (4, 16), (5, 25), (6, 36), (7, 49), (8, 64)}"
      ]
     },
     "execution_count": 45,
     "metadata": {},
     "output_type": "execute_result"
    }
   ],
   "source": [
    "firstList = [2, 3, 4, 5, 6, 7, 8]\n",
    "print(\"First List \", firstList)\n",
    "\n",
    "secondList = [4, 9, 16, 25, 36, 49, 64]\n",
    "print(\"Second List \", secondList)\n",
    "\n",
    "result = zip(firstList, secondList)\n",
    "resultset=set(result)\n",
    "resultset"
   ]
  },
  {
   "cell_type": "code",
   "execution_count": null,
   "metadata": {},
   "outputs": [],
   "source": []
  },
  {
   "cell_type": "markdown",
   "metadata": {},
   "source": [
    "Exercise Question 6: Given a following two sets find the intersection and remove those elements from the first set"
   ]
  },
  {
   "cell_type": "code",
   "execution_count": 47,
   "metadata": {},
   "outputs": [
    {
     "name": "stdout",
     "output_type": "stream",
     "text": [
      "First Set  {65, 42, 78, 83, 23, 57, 29}\n",
      "Second Set  {67, 73, 43, 48, 83, 57, 29}\n",
      "intersection is  {57, 83, 29}\n"
     ]
    },
    {
     "data": {
      "text/plain": [
       "{23, 42, 65, 78}"
      ]
     },
     "execution_count": 47,
     "metadata": {},
     "output_type": "execute_result"
    }
   ],
   "source": [
    "firstset  = {23, 42, 65, 57, 78, 83, 29}\n",
    "secondset = {57, 83, 29, 67, 73, 43, 48}\n",
    "\n",
    "print(\"First Set \", firstSet)\n",
    "print(\"Second Set \", secondSet)\n",
    "intersection=firstset.intersection(secondset)\n",
    "print('intersection is ',intersection)\n",
    "for item in intersection:\n",
    "    firstset.remove(item)\n",
    "firstset    \n",
    "    "
   ]
  },
  {
   "cell_type": "code",
   "execution_count": null,
   "metadata": {},
   "outputs": [],
   "source": []
  },
  {
   "cell_type": "markdown",
   "metadata": {},
   "source": [
    "Exercise Question 7: Given two sets, Checks if One Set is Subset or superset of Another Set. if the subset is found delete all elements from that set"
   ]
  },
  {
   "cell_type": "code",
   "execution_count": 11,
   "metadata": {},
   "outputs": [
    {
     "name": "stdout",
     "output_type": "stream",
     "text": [
      "First Set  {57, 83, 29}\n",
      "Second Set  {67, 73, 43, 48, 83, 57, 29}\n",
      "First set is subset of second set - True\n",
      "Second set is subset of First set -  False\n",
      "First set is Super set of second set -  False\n",
      "Second set is Super set of First set -  True\n",
      "First Set  set()\n",
      "Second Set  {67, 73, 43, 48, 83, 57, 29}\n"
     ]
    }
   ],
   "source": [
    "firstSet  = {57, 83, 29}\n",
    "secondSet = {57, 83, 29, 67, 73, 43, 48}\n",
    "\n",
    "print(\"First Set \", firstSet)\n",
    "print(\"Second Set \", secondSet)\n",
    "\n",
    "print(\"First set is subset of second set -\", firstSet.issubset(secondSet))\n",
    "print(\"Second set is subset of First set - \", secondSet.issubset(firstSet))\n",
    "\n",
    "print(\"First set is Super set of second set - \", firstSet.issuperset(secondSet))\n",
    "print(\"Second set is Super set of First set - \", secondSet.issuperset(firstSet))\n",
    "\n",
    "if(firstSet.issubset(secondSet)):\n",
    "  firstSet.clear()\n",
    "  \n",
    "if(secondSet.issubset(firstSet)):\n",
    "  secondSet.clear()\n",
    "\n",
    "print(\"First Set \", firstSet)\n",
    "print(\"Second Set \", secondSet)\n"
   ]
  },
  {
   "cell_type": "code",
   "execution_count": null,
   "metadata": {},
   "outputs": [],
   "source": []
  },
  {
   "cell_type": "markdown",
   "metadata": {},
   "source": [
    "Exercise Question 8: Iterate a given list and Check if a given element already exists in a dictionary as a key’s value if not delete it from the list"
   ]
  },
  {
   "cell_type": "code",
   "execution_count": 12,
   "metadata": {},
   "outputs": [
    {
     "name": "stdout",
     "output_type": "stream",
     "text": [
      "List - [47, 64, 69, 37, 76, 83, 95, 97]\n",
      "Dictionary -  {'Jhon': 47, 'Emma': 69, 'Kelly': 76, 'Jason': 97}\n",
      "after removing unwanted elemnts from list  [47, 69, 76, 97]\n"
     ]
    }
   ],
   "source": [
    "rollNumber  = [47, 64, 69, 37, 76, 83, 95, 97]\n",
    "sampleDict  ={'Jhon':47, 'Emma':69, 'Kelly':76, 'Jason':97} \n",
    "\n",
    "print(\"List -\", rollNumber)\n",
    "print(\"Dictionary - \", sampleDict)\n",
    "\n",
    "rollNumber[:] = [item for item in rollNumber if item in sampleDict.values()]\n",
    "print(\"after removing unwanted elemnts from list \", rollNumber)"
   ]
  },
  {
   "cell_type": "code",
   "execution_count": null,
   "metadata": {},
   "outputs": [],
   "source": []
  },
  {
   "cell_type": "markdown",
   "metadata": {},
   "source": [
    "Exercise Question 9: Given a dictionary get all values from the dictionary and add it in a list but don’t add duplicates"
   ]
  },
  {
   "cell_type": "code",
   "execution_count": 14,
   "metadata": {},
   "outputs": [
    {
     "name": "stdout",
     "output_type": "stream",
     "text": [
      "Dictionary values -  dict_values([47, 52, 47, 44, 52, 53, 54, 44, 54])\n",
      "unique list [47, 52, 44, 53, 54]\n"
     ]
    }
   ],
   "source": [
    "speed  ={'jan':47, 'feb':52, 'march':47, 'April':44, 'May':52, 'June':53,\n",
    "          'july':54, 'Aug':44, 'Sept':54} \n",
    "\n",
    "print(\"Dictionary values - \", speed.values())\n",
    "\n",
    "speedList = list()\n",
    "for item in speed.values():\n",
    "  if item not in speedList:\n",
    "    speedList.append(item)\n",
    "print(\"unique list\", speedList)"
   ]
  },
  {
   "cell_type": "code",
   "execution_count": null,
   "metadata": {},
   "outputs": [],
   "source": []
  },
  {
   "cell_type": "markdown",
   "metadata": {},
   "source": [
    "Exercise Question 10: Remove duplicate from a list and create a tuple and find the minimum and maximum number"
   ]
  },
  {
   "cell_type": "code",
   "execution_count": 16,
   "metadata": {},
   "outputs": [
    {
     "name": "stdout",
     "output_type": "stream",
     "text": [
      "Original list [87, 52, 44, 53, 54, 87, 52, 53]\n",
      "unique list [44, 52, 53, 54, 87]\n",
      "tuple  (44, 52, 53, 54, 87)\n",
      "Minimum number is:  44\n",
      "Maximum number is:  87\n"
     ]
    }
   ],
   "source": [
    "sampleList = [87, 52, 44, 53, 54, 87, 52, 53]\n",
    "\n",
    "print(\"Original list\", sampleList)\n",
    "\n",
    "sampleList = list(set(sampleList))\n",
    "print(\"unique list\", sampleList)\n",
    "\n",
    "tuple = tuple(sampleList)\n",
    "print(\"tuple \", tuple)\n",
    "\n",
    "print(\"Minimum number is: \", min(tuple))\n",
    "print(\"Maximum number is: \", max(tuple))"
   ]
  },
  {
   "cell_type": "code",
   "execution_count": null,
   "metadata": {},
   "outputs": [],
   "source": []
  }
 ],
 "metadata": {
  "kernelspec": {
   "display_name": "Python 3",
   "language": "python",
   "name": "python3"
  },
  "language_info": {
   "codemirror_mode": {
    "name": "ipython",
    "version": 3
   },
   "file_extension": ".py",
   "mimetype": "text/x-python",
   "name": "python",
   "nbconvert_exporter": "python",
   "pygments_lexer": "ipython3",
   "version": "3.7.1"
  }
 },
 "nbformat": 4,
 "nbformat_minor": 2
}
